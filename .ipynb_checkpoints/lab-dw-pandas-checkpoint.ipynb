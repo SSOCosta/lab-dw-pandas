{
 "cells": [
  {
   "cell_type": "markdown",
   "id": "25d7736c-ba17-4aff-b6bb-66eba20fbf4e",
   "metadata": {},
   "source": [
    "# Lab | Pandas"
   ]
  },
  {
   "cell_type": "markdown",
   "id": "d1973e9e-8be6-4039-b70e-d73ee0d94c99",
   "metadata": {},
   "source": [
    "In this lab, we will be working with the customer data from an insurance company, which can be found in the CSV file located at the following link: https://raw.githubusercontent.com/data-bootcamp-v4/data/main/file1.csv\n",
    "\n",
    "The data includes information such as customer ID, state, gender, education, income, and other variables that can be used to perform various analyses.\n",
    "\n",
    "Throughout the lab, we will be using the pandas library in Python to manipulate and analyze the data. Pandas is a powerful library that provides various data manipulation and analysis tools, including the ability to load and manipulate data from a variety of sources, including CSV files."
   ]
  },
  {
   "cell_type": "markdown",
   "id": "8045146f-f4f7-44d9-8cd9-130d6400c73a",
   "metadata": {},
   "source": [
    "### Data Description\n",
    "\n",
    "- Customer - Customer ID\n",
    "\n",
    "- ST - State where customers live\n",
    "\n",
    "- Gender - Gender of the customer\n",
    "\n",
    "- Education - Background education of customers \n",
    "\n",
    "- Customer Lifetime Value - Customer lifetime value(CLV) is the total revenue the client will derive from their entire relationship with a customer. In other words, is the predicted or calculated value of a customer over their entire duration as a policyholder with the insurance company. It is an estimation of the net profit that the insurance company expects to generate from a customer throughout their relationship with the company. Customer Lifetime Value takes into account factors such as the duration of the customer's policy, premium payments, claim history, renewal likelihood, and potential additional services or products the customer may purchase. It helps insurers assess the long-term profitability and value associated with retaining a particular customer.\n",
    "\n",
    "- Income - Customers income\n",
    "\n",
    "- Monthly Premium Auto - Amount of money the customer pays on a monthly basis as a premium for their auto insurance coverage. It represents the recurring cost that the insured person must pay to maintain their insurance policy and receive coverage for potential damages, accidents, or other covered events related to their vehicle.\n",
    "\n",
    "- Number of Open Complaints - Number of complaints the customer opened\n",
    "\n",
    "- Policy Type - There are three type of policies in car insurance (Corporate Auto, Personal Auto, and Special Auto)\n",
    "\n",
    "- Vehicle Class - Type of vehicle classes that customers have Two-Door Car, Four-Door Car SUV, Luxury SUV, Sports Car, and Luxury Car\n",
    "\n",
    "- Total Claim Amount - the sum of all claims made by the customer. It represents the total monetary value of all approved claims for incidents such as accidents, theft, vandalism, or other covered events.\n"
   ]
  },
  {
   "cell_type": "markdown",
   "id": "3a72419b-20fc-4905-817a-8c83abc59de6",
   "metadata": {},
   "source": [
    "External Resources: https://towardsdatascience.com/filtering-data-frames-in-pandas-b570b1f834b9"
   ]
  },
  {
   "cell_type": "markdown",
   "id": "8f8ece17-e919-4e23-96c0-c7c59778436a",
   "metadata": {},
   "source": [
    "## Challenge 1: Understanding the data\n",
    "\n",
    "In this challenge, you will use pandas to explore a given dataset. Your task is to gain a deep understanding of the data by analyzing its characteristics, dimensions, and statistical properties."
   ]
  },
  {
   "cell_type": "markdown",
   "id": "91437bd5-59a6-49c0-8150-ef0e6e6eb253",
   "metadata": {},
   "source": [
    "- Identify the dimensions of the dataset by determining the number of rows and columns it contains.\n",
    "- Determine the data types of each column and evaluate whether they are appropriate for the nature of the variable. You should also provide suggestions for fixing any incorrect data types.\n",
    "- Identify the number of unique values for each column and determine which columns appear to be categorical. You should also describe the unique values of each categorical column and the range of values for numerical columns, and give your insights.\n",
    "- Compute summary statistics such as mean, median, mode, standard deviation, and quartiles to understand the central tendency and distribution of the data for numerical columns. You should also provide your conclusions based on these summary statistics.\n",
    "- Compute summary statistics for categorical columns and providing your conclusions based on these statistics."
   ]
  },
  {
   "cell_type": "code",
   "execution_count": null,
   "id": "dd4e8cd8-a6f6-486c-a5c4-1745b0c035f4",
   "metadata": {},
   "outputs": [],
   "source": [
    "# Importing the necessary libraries\n",
    "import pandas as pd\n",
    "import numpy as np"
   ]
  },
  {
   "cell_type": "code",
   "execution_count": null,
   "id": "9afcea61",
   "metadata": {},
   "outputs": [],
   "source": [
    "# open the file were the data is\n",
    "df = pd.read_csv ('https://raw.githubusercontent.com/data-bootcamp-v4/data/main/file1.csv')\n",
    "df"
   ]
  },
  {
   "cell_type": "code",
   "execution_count": null,
   "id": "53d51f61",
   "metadata": {},
   "outputs": [],
   "source": [
    "# Identifying the number of rows and columns of the dataframe\n",
    "df.shape"
   ]
  },
  {
   "cell_type": "code",
   "execution_count": null,
   "id": "103967d3",
   "metadata": {},
   "outputs": [],
   "source": [
    "# Identifying the data types\n",
    "df.dtypes"
   ]
  },
  {
   "cell_type": "code",
   "execution_count": null,
   "id": "94ab0f18",
   "metadata": {},
   "outputs": [],
   "source": [
    "# Number of open complaints is defined as an object, however it should be considered a numerical value such as integer"
   ]
  },
  {
   "cell_type": "code",
   "execution_count": null,
   "id": "4159aa82",
   "metadata": {},
   "outputs": [],
   "source": [
    "# We can observe that there is a large amount of null values (nan) in our dataframe\n",
    "# the number of values is quite equivalent in all the columns and represents more than half of the entry data, for that reason we cannopt drop it, because is a representative amount for \n",
    "#interpretation of results\n",
    "df.isna().sum()"
   ]
  },
  {
   "cell_type": "code",
   "execution_count": null,
   "id": "b58794b0",
   "metadata": {},
   "outputs": [],
   "source": [
    "# By the previous line of code is possible to see that\n",
    "df.isnull()"
   ]
  },
  {
   "cell_type": "code",
   "execution_count": null,
   "id": "f0f280e4",
   "metadata": {},
   "outputs": [],
   "source": [
    "df.nunique()"
   ]
  },
  {
   "cell_type": "code",
   "execution_count": null,
   "id": "d2646bd2",
   "metadata": {},
   "outputs": [],
   "source": [
    "\n",
    "\n",
    "Compute summary statistics for categorical columns and providing your conclusions based on these statistics."
   ]
  },
  {
   "cell_type": "code",
   "execution_count": null,
   "id": "03d91c97",
   "metadata": {},
   "outputs": [],
   "source": [
    "# Identifying the categorical columns\n",
    "categorical_columns = [col for col in df.columns if unique_counts[col] < 10]\n",
    "categorical_columns"
   ]
  },
  {
   "cell_type": "code",
   "execution_count": null,
   "id": "31fbc1e8",
   "metadata": {},
   "outputs": [],
   "source": [
    "# Describe the range of values for numerical columns\n",
    "numerical_columns = [col for col in df.columns if col not in categorical_columns]\n",
    "numerical_columns"
   ]
  },
  {
   "cell_type": "code",
   "execution_count": null,
   "id": "d7023af1",
   "metadata": {},
   "outputs": [],
   "source": [
    "# Find the range of values for numerical columns\n",
    "# We can observe that costumers with a lower income, have lower monthly premium to pay and almost no claims, this could also indicate that they have more restrictions \n",
    "#to claim in case of accident or other, than a more expensive policy would cover.\n",
    "numerical_columns = ['Customer', 'Customer Lifetime Value', 'Income', 'Monthly Premium Auto', 'Total Claim Amount']\n",
    "\n",
    "range_values = df[numerical_columns].describe().loc[['min', 'max']]\n",
    "\n",
    "print(range_values)"
   ]
  },
  {
   "cell_type": "code",
   "execution_count": null,
   "id": "b5dac169",
   "metadata": {},
   "outputs": [],
   "source": [
    "# 50% will be refered to the median value\n",
    "numerical_summary = df[numerical_columns].describe()\n",
    "numerical_summary"
   ]
  },
  {
   "cell_type": "code",
   "execution_count": null,
   "id": "821c7f3b",
   "metadata": {},
   "outputs": [],
   "source": [
    "# Due to have so many NAN values, the mean, median, variance and standard deviation results will not represent a true meaning of the results.\n",
    "Can also be calculated by:\n",
    "# Calculating the mean\n",
    "df.mean()"
   ]
  },
  {
   "cell_type": "code",
   "execution_count": null,
   "id": "ca7b213e",
   "metadata": {},
   "outputs": [],
   "source": [
    "# Calculating the median\n",
    "df.median()"
   ]
  },
  {
   "cell_type": "code",
   "execution_count": null,
   "id": "b684684d",
   "metadata": {},
   "outputs": [],
   "source": [
    "# Calculating the variance\n",
    "df.var()"
   ]
  },
  {
   "cell_type": "code",
   "execution_count": null,
   "id": "080fff31",
   "metadata": {},
   "outputs": [],
   "source": [
    "# Calculating the standard deviation\n",
    "df.std()"
   ]
  },
  {
   "cell_type": "code",
   "execution_count": null,
   "id": "83f4c936",
   "metadata": {},
   "outputs": [],
   "source": [
    "# Calculating the mode\n",
    "df.mode()"
   ]
  },
  {
   "cell_type": "code",
   "execution_count": null,
   "id": "53b785fe",
   "metadata": {},
   "outputs": [],
   "source": [
    "# Calculating the quantile\n",
    "df.quantile(q=[0.25, 0.5, 0.75], axis=0, numeric_only=True)"
   ]
  },
  {
   "cell_type": "code",
   "execution_count": null,
   "id": "41d860d6",
   "metadata": {},
   "outputs": [],
   "source": [
    "# The values on the left side (0.25 , 0.50, 0.75) represent specific percentiles of the data distribution.\n",
    "# for example, regarding 25% percentile and the income value, we can observate that 25% of costumers have an income less than or equal to 14,072.0.\n",
    "# another example is 50% of the costumers have monthly premium auto values to pay less than or equal to 83.0.\n",
    "# last example is that 75% of the costumers have total claim amounts less than or equal to 532.800000."
   ]
  },
  {
   "cell_type": "code",
   "execution_count": null,
   "id": "8bd2c25f",
   "metadata": {},
   "outputs": [],
   "source": [
    "categorical_columns = [col for col in df.columns if unique_counts[col] < 10]\n",
    "\n",
    "categorical_summary = df[categorical_columns].describe()\n",
    "categorical_summary\n",
    "\n",
    "# Regarding the state (ST), we can observe that in 1071 costumers entries, there were found 8 unique values (states) and the most frequent was Oregon\n",
    "# Regarding the gender, in 954 costumers, there were found 5 types of answers, however, te most predominent with almost half of the entries was Female\n",
    "# Regarding the Education, is 1071 costumers, we could find 6 different values entered, being the most frequent the Bachelor.\n",
    "# Regarding the number of open complaints, in 1071 costumers, at least 830 have one open complaint\n",
    "# Regarding the policy Type the most frequently chosen in 1071 costumers, between 3 options is the Personal Auto\n",
    "# Regarding the vehicle Class, in 6 possible options, more than a half of the 1071 costumers selected Four-Door Car"
   ]
  },
  {
   "cell_type": "markdown",
   "id": "4a703890-63db-4944-b7ab-95a4f8185120",
   "metadata": {},
   "source": [
    "## Challenge 2: analyzing the data"
   ]
  },
  {
   "cell_type": "markdown",
   "id": "0776a403-c56a-452f-ac33-5fd4fdb06fc7",
   "metadata": {},
   "source": [
    "### Exercise 1"
   ]
  },
  {
   "cell_type": "markdown",
   "id": "eedbc484-da4d-4f9c-9343-e1d44311a87e",
   "metadata": {},
   "source": [
    "The marketing team wants to know the top 5 less common customer locations. Create a pandas Series object that contains the customer locations and their frequencies, and then retrieve the top 5 less common locations in ascending order."
   ]
  },
  {
   "cell_type": "code",
   "execution_count": null,
   "id": "bf385f62",
   "metadata": {},
   "outputs": [],
   "source": [
    "#Location counts\n",
    "location_count = df['ST'].value_counts()\n",
    "#Location sort\n",
    "sorted_location = location_count.sort_values()\n",
    "#Least common locations\n",
    "least_common = sorted_location.head(5)\n",
    "print(least_common)"
   ]
  },
  {
   "cell_type": "markdown",
   "id": "0ce80f43-4afa-43c7-a78a-c917444da4e0",
   "metadata": {},
   "source": [
    "### Exercise 2\n",
    "\n",
    "The sales team wants to know the total number of policies sold for each type of policy. Create a pandas Series object that contains the policy types and their total number of policies sold, and then retrieve the policy type with the highest number of policies sold."
   ]
  },
  {
   "cell_type": "markdown",
   "id": "a9f13997-1555-4f98-aca6-970fda1d2c3f",
   "metadata": {},
   "source": [
    "*Hint:*\n",
    "- *Using value_counts() method simplifies this analysis.*\n",
    "- *Futhermore, there is a method that returns the index of the maximum value in a column or row.*\n"
   ]
  },
  {
   "cell_type": "code",
   "execution_count": null,
   "id": "bcfad6c1-9af2-4b0b-9aa9-0dc5c17473c0",
   "metadata": {},
   "outputs": [],
   "source": [
    "df = pd.DataFrame(df)\n",
    "\n",
    "# Calculate the total number of policies sold for each type\n",
    "policy_counts = df['Policy Type'].value_counts()\n",
    "\n",
    "# Find the policy type with the highest number of policies sold\n",
    "max_policy_type = policy_counts.idxmax()\n",
    "\n",
    "print(\"Total number of policies sold for each type:\")\n",
    "print(policy_counts)\n",
    "print(f\"Policy type with the highest number of policies sold: {max_policy_type}\")"
   ]
  },
  {
   "cell_type": "markdown",
   "id": "0b863fd3-bf91-4d5d-86eb-be29ed9f5b70",
   "metadata": {},
   "source": [
    "### Exercise 3\n",
    "\n",
    "The sales team wants to know if customers with Personal Auto have a lower income than those with Corporate Auto. How does the average income compare between the two policy types?"
   ]
  },
  {
   "cell_type": "markdown",
   "id": "b1386d75-2810-4aa1-93e0-9485aa12d552",
   "metadata": {},
   "source": [
    "- Use *loc* to create two dataframes: one containing only Personal Auto policies and one containing only Corporate Auto policies.\n",
    "- Calculate the average income for each policy.\n",
    "- Print the results."
   ]
  },
  {
   "cell_type": "code",
   "execution_count": null,
   "id": "0c0563cf-6f8b-463d-a321-651a972f82e5",
   "metadata": {},
   "outputs": [],
   "source": [
    "df = pd.DataFrame(df)\n",
    "\n",
    "# Create two DataFrames for each policy type\n",
    "personal_auto_df = df.loc[df['Policy Type'] == 'Personal Auto']\n",
    "corporate_auto_df = df.loc[df['Policy Type'] == 'Corporate Auto']\n",
    "\n",
    "# Calculate the average income for each policy type\n",
    "average_income_personal_auto = personal_auto_df['Income'].mean()\n",
    "average_income_corporate_auto = corporate_auto_df['Income'].mean()\n",
    "\n",
    "print(f\"Average income for Personal Auto policies: {average_income_personal_auto}\")\n",
    "print(f\"Average income for Corporate Auto policies: {average_income_corporate_auto}\")\n",
    "\n",
    "if average_income_personal_auto < average_income_corporate_auto:\n",
    "    print(\"Customers with Personal Auto have a lower income.\")\n",
    "elif average_income_personal_auto > average_income_corporate_auto:\n",
    "    print(\"Customers with Personal Auto have a higher income.\")\n",
    "else:\n",
    "    print(\"Average incomes are the same for both policy types.\")\n",
    "\n",
    "\n"
   ]
  },
  {
   "cell_type": "markdown",
   "id": "80b16c27-f4a5-4727-a229-1f88671cf4e2",
   "metadata": {},
   "source": [
    "### Bonus: Exercise 4\n"
   ]
  },
  {
   "cell_type": "markdown",
   "id": "ac584986-299b-475f-ac2e-928c16c3f512",
   "metadata": {},
   "source": [
    "Your goal is to identify customers with a high policy claim amount.\n",
    "\n",
    "Instructions:\n",
    "\n",
    "- Review again the statistics for total claim amount to gain an understanding of the data.\n",
    "- To identify potential areas for improving customer retention and profitability, we want to focus on customers with a high policy claim amount. Consider customers with a high policy claim amount to be those in the top 25% of the total claim amount. Create a pandas DataFrame object that contains information about customers with a policy claim amount greater than the 75th percentile.\n",
    "- Use DataFrame methods to calculate summary statistics about the high policy claim amount data. "
   ]
  },
  {
   "cell_type": "markdown",
   "id": "4e3af5f1-6023-4b05-9c01-d05392daa650",
   "metadata": {},
   "source": [
    "*Note: When analyzing data, we often want to focus on certain groups of values to gain insights. Percentiles are a useful tool to help us define these groups. A percentile is a measure that tells us what percentage of values in a dataset are below a certain value. For example, the 75th percentile represents the value below which 75% of the data falls. Similarly, the 25th percentile represents the value below which 25% of the data falls. When we talk about the top 25%, we are referring to the values that fall above the 75th percentile, which represent the top quarter of the data. On the other hand, when we talk about the bottom 25%, we are referring to the values that fall below the 25th percentile, which represent the bottom quarter of the data. By focusing on these groups, we can identify patterns and trends that may be useful for making decisions and taking action.*\n",
    "\n",
    "*Hint: look for a method that gives you the percentile or quantile 0.75 and 0.25 for a Pandas Series.*"
   ]
  },
  {
   "cell_type": "markdown",
   "id": "2d234634-50bd-41e0-88f7-d5ba684455d1",
   "metadata": {},
   "source": [
    "*Hint 2: check `Boolean selection according to the values of a single column` in https://towardsdatascience.com/filtering-data-frames-in-pandas-b570b1f834b9*"
   ]
  },
  {
   "cell_type": "code",
   "execution_count": null,
   "id": "39a496dd",
   "metadata": {},
   "outputs": [],
   "source": [
    "df = pd.read_csv ('https://raw.githubusercontent.com/data-bootcamp-v4/data/main/file1.csv')\n",
    "df"
   ]
  },
  {
   "cell_type": "code",
   "execution_count": null,
   "id": "b2edf6d7",
   "metadata": {},
   "outputs": [],
   "source": [
    "numerical_summary = df[numerical_columns].describe()\n",
    "numerical_summary"
   ]
  },
  {
   "cell_type": "code",
   "execution_count": null,
   "id": "b731bca6-a760-4860-a27b-a33efa712ce0",
   "metadata": {},
   "outputs": [],
   "source": [
    "df_sorted = df.sort_values(by='Total Claim Amount', ascending=False)\n",
    "\n",
    "# Select the top N records to identify customers with high claim amounts\n",
    "top_clients = 3  # You can adjust this value as needed\n",
    "high_claim_customers = df_sorted.head(top_clients)\n",
    "high_claim_customers"
   ]
  },
  {
   "cell_type": "code",
   "execution_count": null,
   "id": "3070f48f",
   "metadata": {},
   "outputs": [],
   "source": []
  }
 ],
 "metadata": {
  "kernelspec": {
   "display_name": "Python 3 (ipykernel)",
   "language": "python",
   "name": "python3"
  },
  "language_info": {
   "codemirror_mode": {
    "name": "ipython",
    "version": 3
   },
   "file_extension": ".py",
   "mimetype": "text/x-python",
   "name": "python",
   "nbconvert_exporter": "python",
   "pygments_lexer": "ipython3",
   "version": "3.9.12"
  }
 },
 "nbformat": 4,
 "nbformat_minor": 5
}
